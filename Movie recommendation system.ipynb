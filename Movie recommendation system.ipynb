{
 "cells": [
  {
   "cell_type": "code",
   "execution_count": 1,
   "id": "bf3537b7",
   "metadata": {},
   "outputs": [],
   "source": [
    "import pandas as pd"
   ]
  },
  {
   "cell_type": "code",
   "execution_count": 2,
   "id": "49ee3514",
   "metadata": {},
   "outputs": [],
   "source": [
    "import numpy as np"
   ]
  },
  {
   "cell_type": "code",
   "execution_count": 5,
   "id": "caf1918c",
   "metadata": {},
   "outputs": [],
   "source": [
    "df = pd.read_csv(r'C:\\Users\\Admin\\Downloads\\Movies.zip')"
   ]
  },
  {
   "cell_type": "code",
   "execution_count": 6,
   "id": "cf6a3f7a",
   "metadata": {},
   "outputs": [
    {
     "data": {
      "text/html": [
       "<div>\n",
       "<style scoped>\n",
       "    .dataframe tbody tr th:only-of-type {\n",
       "        vertical-align: middle;\n",
       "    }\n",
       "\n",
       "    .dataframe tbody tr th {\n",
       "        vertical-align: top;\n",
       "    }\n",
       "\n",
       "    .dataframe thead th {\n",
       "        text-align: right;\n",
       "    }\n",
       "</style>\n",
       "<table border=\"1\" class=\"dataframe\">\n",
       "  <thead>\n",
       "    <tr style=\"text-align: right;\">\n",
       "      <th></th>\n",
       "      <th>movieId</th>\n",
       "      <th>title</th>\n",
       "      <th>genres</th>\n",
       "    </tr>\n",
       "  </thead>\n",
       "  <tbody>\n",
       "    <tr>\n",
       "      <th>0</th>\n",
       "      <td>1</td>\n",
       "      <td>Toy Story (1995)</td>\n",
       "      <td>Adventure|Animation|Children|Comedy|Fantasy</td>\n",
       "    </tr>\n",
       "    <tr>\n",
       "      <th>1</th>\n",
       "      <td>2</td>\n",
       "      <td>Jumanji (1995)</td>\n",
       "      <td>Adventure|Children|Fantasy</td>\n",
       "    </tr>\n",
       "    <tr>\n",
       "      <th>2</th>\n",
       "      <td>3</td>\n",
       "      <td>Grumpier Old Men (1995)</td>\n",
       "      <td>Comedy|Romance</td>\n",
       "    </tr>\n",
       "    <tr>\n",
       "      <th>3</th>\n",
       "      <td>4</td>\n",
       "      <td>Waiting to Exhale (1995)</td>\n",
       "      <td>Comedy|Drama|Romance</td>\n",
       "    </tr>\n",
       "    <tr>\n",
       "      <th>4</th>\n",
       "      <td>5</td>\n",
       "      <td>Father of the Bride Part II (1995)</td>\n",
       "      <td>Comedy</td>\n",
       "    </tr>\n",
       "  </tbody>\n",
       "</table>\n",
       "</div>"
      ],
      "text/plain": [
       "   movieId                               title  \\\n",
       "0        1                    Toy Story (1995)   \n",
       "1        2                      Jumanji (1995)   \n",
       "2        3             Grumpier Old Men (1995)   \n",
       "3        4            Waiting to Exhale (1995)   \n",
       "4        5  Father of the Bride Part II (1995)   \n",
       "\n",
       "                                        genres  \n",
       "0  Adventure|Animation|Children|Comedy|Fantasy  \n",
       "1                   Adventure|Children|Fantasy  \n",
       "2                               Comedy|Romance  \n",
       "3                         Comedy|Drama|Romance  \n",
       "4                                       Comedy  "
      ]
     },
     "execution_count": 6,
     "metadata": {},
     "output_type": "execute_result"
    }
   ],
   "source": [
    "df.head()"
   ]
  },
  {
   "cell_type": "code",
   "execution_count": 7,
   "id": "33eacd39",
   "metadata": {},
   "outputs": [
    {
     "name": "stdout",
     "output_type": "stream",
     "text": [
      "<class 'pandas.core.frame.DataFrame'>\n",
      "RangeIndex: 10329 entries, 0 to 10328\n",
      "Data columns (total 3 columns):\n",
      " #   Column   Non-Null Count  Dtype \n",
      "---  ------   --------------  ----- \n",
      " 0   movieId  10329 non-null  int64 \n",
      " 1   title    10329 non-null  object\n",
      " 2   genres   10329 non-null  object\n",
      "dtypes: int64(1), object(2)\n",
      "memory usage: 242.2+ KB\n"
     ]
    }
   ],
   "source": [
    "df.info()"
   ]
  },
  {
   "cell_type": "code",
   "execution_count": 8,
   "id": "9f2cc65a",
   "metadata": {},
   "outputs": [
    {
     "data": {
      "text/plain": [
       "(10329, 3)"
      ]
     },
     "execution_count": 8,
     "metadata": {},
     "output_type": "execute_result"
    }
   ],
   "source": [
    "df.shape"
   ]
  },
  {
   "cell_type": "code",
   "execution_count": 9,
   "id": "351348f4",
   "metadata": {},
   "outputs": [
    {
     "data": {
      "text/plain": [
       "Index(['movieId', 'title', 'genres'], dtype='object')"
      ]
     },
     "execution_count": 9,
     "metadata": {},
     "output_type": "execute_result"
    }
   ],
   "source": [
    "df.columns"
   ]
  },
  {
   "cell_type": "code",
   "execution_count": 12,
   "id": "e9d63845",
   "metadata": {},
   "outputs": [],
   "source": [
    "df['features'] = df[['title', 'genres']].fillna('').apply(lambda x: ' '.join(x), axis=1)"
   ]
  },
  {
   "cell_type": "code",
   "execution_count": 13,
   "id": "0fb02375",
   "metadata": {},
   "outputs": [
    {
     "name": "stdout",
     "output_type": "stream",
     "text": [
      "       movieId                                title  \\\n",
      "0            1                     Toy Story (1995)   \n",
      "1            2                       Jumanji (1995)   \n",
      "2            3              Grumpier Old Men (1995)   \n",
      "3            4             Waiting to Exhale (1995)   \n",
      "4            5   Father of the Bride Part II (1995)   \n",
      "...        ...                                  ...   \n",
      "10324   146684        Cosmic Scrat-tastrophe (2015)   \n",
      "10325   146878           Le Grand Restaurant (1966)   \n",
      "10326   148238       A Very Murray Christmas (2015)   \n",
      "10327   148626                 The Big Short (2015)   \n",
      "10328   149532  Marco Polo: One Hundred Eyes (2015)   \n",
      "\n",
      "                                            genres  \\\n",
      "0      Adventure|Animation|Children|Comedy|Fantasy   \n",
      "1                       Adventure|Children|Fantasy   \n",
      "2                                   Comedy|Romance   \n",
      "3                             Comedy|Drama|Romance   \n",
      "4                                           Comedy   \n",
      "...                                            ...   \n",
      "10324                    Animation|Children|Comedy   \n",
      "10325                                       Comedy   \n",
      "10326                                       Comedy   \n",
      "10327                                        Drama   \n",
      "10328                           (no genres listed)   \n",
      "\n",
      "                                                features  \n",
      "0      Toy Story (1995) Adventure|Animation|Children|...  \n",
      "1              Jumanji (1995) Adventure|Children|Fantasy  \n",
      "2                 Grumpier Old Men (1995) Comedy|Romance  \n",
      "3          Waiting to Exhale (1995) Comedy|Drama|Romance  \n",
      "4              Father of the Bride Part II (1995) Comedy  \n",
      "...                                                  ...  \n",
      "10324  Cosmic Scrat-tastrophe (2015) Animation|Childr...  \n",
      "10325                  Le Grand Restaurant (1966) Comedy  \n",
      "10326              A Very Murray Christmas (2015) Comedy  \n",
      "10327                         The Big Short (2015) Drama  \n",
      "10328  Marco Polo: One Hundred Eyes (2015) (no genres...  \n",
      "\n",
      "[10329 rows x 4 columns]\n"
     ]
    }
   ],
   "source": [
    "print(df)"
   ]
  },
  {
   "cell_type": "code",
   "execution_count": 15,
   "id": "0f3d4e68",
   "metadata": {},
   "outputs": [
    {
     "data": {
      "text/plain": [
       "(10329,)"
      ]
     },
     "execution_count": 15,
     "metadata": {},
     "output_type": "execute_result"
    }
   ],
   "source": [
    "df['features'].shape"
   ]
  },
  {
   "cell_type": "code",
   "execution_count": 16,
   "id": "284acbe9",
   "metadata": {},
   "outputs": [
    {
     "data": {
      "text/plain": [
       "0        Toy Story (1995) Adventure|Animation|Children|...\n",
       "1                Jumanji (1995) Adventure|Children|Fantasy\n",
       "2                   Grumpier Old Men (1995) Comedy|Romance\n",
       "3            Waiting to Exhale (1995) Comedy|Drama|Romance\n",
       "4                Father of the Bride Part II (1995) Comedy\n",
       "                               ...                        \n",
       "10324    Cosmic Scrat-tastrophe (2015) Animation|Childr...\n",
       "10325                    Le Grand Restaurant (1966) Comedy\n",
       "10326                A Very Murray Christmas (2015) Comedy\n",
       "10327                           The Big Short (2015) Drama\n",
       "10328    Marco Polo: One Hundred Eyes (2015) (no genres...\n",
       "Name: features, Length: 10329, dtype: object"
      ]
     },
     "execution_count": 16,
     "metadata": {},
     "output_type": "execute_result"
    }
   ],
   "source": [
    "df['features']"
   ]
  },
  {
   "cell_type": "code",
   "execution_count": 19,
   "id": "1c792585",
   "metadata": {},
   "outputs": [
    {
     "name": "stdout",
     "output_type": "stream",
     "text": [
      "       movieId                                title  \\\n",
      "0            1                     Toy Story (1995)   \n",
      "1            2                       Jumanji (1995)   \n",
      "2            3              Grumpier Old Men (1995)   \n",
      "3            4             Waiting to Exhale (1995)   \n",
      "4            5   Father of the Bride Part II (1995)   \n",
      "...        ...                                  ...   \n",
      "10324   146684        Cosmic Scrat-tastrophe (2015)   \n",
      "10325   146878           Le Grand Restaurant (1966)   \n",
      "10326   148238       A Very Murray Christmas (2015)   \n",
      "10327   148626                 The Big Short (2015)   \n",
      "10328   149532  Marco Polo: One Hundred Eyes (2015)   \n",
      "\n",
      "                                            genres  \\\n",
      "0      Adventure|Animation|Children|Comedy|Fantasy   \n",
      "1                       Adventure|Children|Fantasy   \n",
      "2                                   Comedy|Romance   \n",
      "3                             Comedy|Drama|Romance   \n",
      "4                                           Comedy   \n",
      "...                                            ...   \n",
      "10324                    Animation|Children|Comedy   \n",
      "10325                                       Comedy   \n",
      "10326                                       Comedy   \n",
      "10327                                        Drama   \n",
      "10328                           (no genres listed)   \n",
      "\n",
      "                                                features  \n",
      "0      Toy Story (1995) Adventure|Animation|Children|...  \n",
      "1              Jumanji (1995) Adventure|Children|Fantasy  \n",
      "2                 Grumpier Old Men (1995) Comedy|Romance  \n",
      "3          Waiting to Exhale (1995) Comedy|Drama|Romance  \n",
      "4              Father of the Bride Part II (1995) Comedy  \n",
      "...                                                  ...  \n",
      "10324  Cosmic Scrat-tastrophe (2015) Animation|Childr...  \n",
      "10325                  Le Grand Restaurant (1966) Comedy  \n",
      "10326              A Very Murray Christmas (2015) Comedy  \n",
      "10327                         The Big Short (2015) Drama  \n",
      "10328  Marco Polo: One Hundred Eyes (2015) (no genres...  \n",
      "\n",
      "[10329 rows x 4 columns]\n"
     ]
    }
   ],
   "source": [
    "df['features'] = df['title'] + ' ' + df['genres']\n",
    "print(df)"
   ]
  },
  {
   "cell_type": "code",
   "execution_count": 28,
   "id": "a34b59ca",
   "metadata": {},
   "outputs": [],
   "source": [
    "from sklearn.feature_extraction.text import CountVectorizer"
   ]
  },
  {
   "cell_type": "code",
   "execution_count": 29,
   "id": "6c856913",
   "metadata": {},
   "outputs": [
    {
     "name": "stdout",
     "output_type": "stream",
     "text": [
      "   action  comedy  drama  movie\n",
      "0       1       0      0      1\n",
      "1       0       1      0      1\n",
      "2       0       0      1      1\n"
     ]
    }
   ],
   "source": [
    "vectorizer = CountVectorizer()\n",
    "\n",
    "X = vectorizer.fit_transform(df['features'])\n",
    "\n",
    "token_df = pd.DataFrame(X.toarray(), columns=vectorizer.get_feature_names_out())\n",
    "print(token_df)"
   ]
  },
  {
   "cell_type": "code",
   "execution_count": null,
   "id": "a1c41a0f",
   "metadata": {},
   "outputs": [],
   "source": []
  }
 ],
 "metadata": {
  "kernelspec": {
   "display_name": "Python 3 (ipykernel)",
   "language": "python",
   "name": "python3"
  },
  "language_info": {
   "codemirror_mode": {
    "name": "ipython",
    "version": 3
   },
   "file_extension": ".py",
   "mimetype": "text/x-python",
   "name": "python",
   "nbconvert_exporter": "python",
   "pygments_lexer": "ipython3",
   "version": "3.9.12"
  }
 },
 "nbformat": 4,
 "nbformat_minor": 5
}
